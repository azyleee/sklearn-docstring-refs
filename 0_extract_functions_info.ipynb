{
 "cells": [
  {
   "cell_type": "markdown",
   "metadata": {},
   "source": [
    "Find functions in need of a ```:ref:``` in the docstring"
   ]
  },
  {
   "cell_type": "code",
   "execution_count": 4,
   "metadata": {},
   "outputs": [],
   "source": [
    "import sys\n",
    "from pprint import pprint\n",
    "from time import time\n",
    "from IPython.display import clear_output\n",
    "import pickle\n",
    "\n",
    "if 'docstring_refs' in sys.modules:\n",
    "    del sys.modules['docstring_refs']\n",
    "\n",
    "from docstring_refs import find_all_py_files, extract_functions_docstrings, remove_internal_functions, remove_referenced_docstrings, find_files_using_functions, remove_unused_functions\n",
    "\n",
    "directory = '../scikit-learn/sklearn'\n",
    "\n",
    "py_files = find_all_py_files(directory)"
   ]
  },
  {
   "cell_type": "code",
   "execution_count": 5,
   "metadata": {},
   "outputs": [
    {
     "name": "stdout",
     "output_type": "stream",
     "text": [
      "100.0% complete | 102 functions | Estimated time remaining: 0 seconds\n"
     ]
    }
   ],
   "source": [
    "functions_info = dict()\n",
    "\n",
    "start_time = time()\n",
    "for i, file in enumerate(py_files, start=1):\n",
    "\n",
    "    print(file)\n",
    "\n",
    "    print('Extracting functions & docstrings...')\n",
    "    info = extract_functions_docstrings(file)\n",
    "    prev_len = len(info)\n",
    "    print(f'{prev_len} functions found')\n",
    "\n",
    "    print('Removing internal functions...')\n",
    "    info = remove_internal_functions(info)\n",
    "    print(f'{prev_len - len(info)} functions removed')\n",
    "    prev_len = len(info)\n",
    "\n",
    "    print('Removing functions with reference...')\n",
    "    info = remove_referenced_docstrings(info)\n",
    "    print(f'{prev_len - len(info)} functions removed')\n",
    "    prev_len = len(info)\n",
    "\n",
    "    print('Finding example files...')\n",
    "    info = find_files_using_functions(info, '../scikit-learn/examples')\n",
    "\n",
    "    print('Removing unused functions...')\n",
    "    info = remove_unused_functions(info)\n",
    "    print(f'{prev_len - len(info)} functions removed')\n",
    "    prev_len = len(info)\n",
    "\n",
    "    functions_info.update(info)\n",
    "\n",
    "    with open('functions_info.pkl', 'wb') as file:\n",
    "        pickle.dump(functions_info, file, protocol=pickle.HIGHEST_PROTOCOL)\n",
    "\n",
    "    pc_complete = i/len(py_files)\n",
    "    elapsed_time = time() - start_time\n",
    "\n",
    "    clear_output(wait=True)\n",
    "\n",
    "    print(f'{pc_complete*100:.1f}% complete | {len(functions_info)} functions | Estimated time remaining: {(1-pc_complete)*(elapsed_time/max(pc_complete,1e-12)):.0f} seconds')"
   ]
  },
  {
   "cell_type": "markdown",
   "metadata": {},
   "source": [
    "Find functions that have both a ```:ref:``` and a written out example in the docstring"
   ]
  },
  {
   "cell_type": "code",
   "execution_count": 6,
   "metadata": {},
   "outputs": [
    {
     "name": "stdout",
     "output_type": "stream",
     "text": [
      "100.0% complete | 15 functions | Estimated time remaining: 0 seconds\n"
     ]
    }
   ],
   "source": [
    "referenced_info = dict()\n",
    "\n",
    "start_time = time()\n",
    "for i, file in enumerate(py_files, start=1):\n",
    "\n",
    "    print(file)\n",
    "\n",
    "    print('Extracting functions & docstrings...')\n",
    "    info = extract_functions_docstrings(file)\n",
    "    prev_len = len(info)\n",
    "    print(f'{prev_len} functions found')\n",
    "\n",
    "    print('Removing internal functions...')\n",
    "    info = remove_internal_functions(info)\n",
    "    print(f'{prev_len - len(info)} functions removed')\n",
    "    prev_len = len(info)\n",
    "\n",
    "    print('Removing functions without reference...')\n",
    "    unreferenced = remove_referenced_docstrings(info)\n",
    "    for key in unreferenced.keys():\n",
    "        del info[key]\n",
    "    print(f'{prev_len - len(info)} functions removed')\n",
    "    prev_len = len(info)\n",
    "\n",
    "    print('Removing functions without written example...')\n",
    "    keys_to_remove = []\n",
    "    for key, value in info.items():\n",
    "        docstring = value.docstring\n",
    "        if not isinstance(docstring, str) or \"Example\" not in docstring:\n",
    "            keys_to_remove.append(key)\n",
    "    for key in keys_to_remove:\n",
    "        del info[key]\n",
    "    print(f'{prev_len - len(info)} functions removed')\n",
    "    prev_len = len(info)\n",
    "\n",
    "    print('Finding example files...')\n",
    "    info = find_files_using_functions(info, '../scikit-learn/examples')\n",
    "\n",
    "    referenced_info.update(info)\n",
    "\n",
    "    with open('referenced_info.pkl', 'wb') as file:\n",
    "        pickle.dump(referenced_info, file, protocol=pickle.HIGHEST_PROTOCOL)\n",
    "\n",
    "    pc_complete = i/len(py_files)\n",
    "    elapsed_time = time() - start_time\n",
    "\n",
    "    clear_output(wait=True)\n",
    "\n",
    "    print(f'{pc_complete*100:.1f}% complete | {len(referenced_info)} functions | Estimated time remaining: {(1-pc_complete)*(elapsed_time/max(pc_complete,1e-12)):.0f} seconds')"
   ]
  }
 ],
 "metadata": {
  "kernelspec": {
   "display_name": "Python 3",
   "language": "python",
   "name": "python3"
  },
  "language_info": {
   "codemirror_mode": {
    "name": "ipython",
    "version": 3
   },
   "file_extension": ".py",
   "mimetype": "text/x-python",
   "name": "python",
   "nbconvert_exporter": "python",
   "pygments_lexer": "ipython3",
   "version": "3.10.0"
  }
 },
 "nbformat": 4,
 "nbformat_minor": 2
}
